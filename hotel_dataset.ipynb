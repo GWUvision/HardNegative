{
 "cells": [
  {
   "cell_type": "code",
   "execution_count": 1,
   "metadata": {},
   "outputs": [],
   "source": [
    "from glob import glob\n",
    "import os,torch"
   ]
  },
  {
   "cell_type": "code",
   "execution_count": 2,
   "metadata": {},
   "outputs": [],
   "source": [
    "###### HOTEL resnet18 256 by 256 ###### \n",
    "Data='HOTEL'\n",
    "src='/SEAS/groups/plessgrp/datasets/Hotels-50K/images/'\n",
    "\n",
    "# the hotel directory structure was just screwy enough that it was easier to break this out into separate lines..\n",
    "# also, what I call train, hong calls 'tra' and I'm currently using the test set as 'val'\n",
    "data_dict = {}\n",
    "data_dict['tra'] = {}\n",
    "data_dict['val'] = {}\n",
    "for p in ['train','test/unoccluded']:\n",
    "    for d in glob(os.path.join(src,p,'3*','*')):\n",
    "        if 'test' in p:\n",
    "            dict_key = 'val'\n",
    "        else:\n",
    "            dict_key = 'tra'\n",
    "        data_dict[dict_key][os.path.basename(d)] = glob(os.path.join(src,'*',p,'*',d,'*','*.jpg'))\n",
    "torch.save(data_dict,'dict_hotel_small.pth')"
   ]
  },
  {
   "cell_type": "code",
   "execution_count": 31,
   "metadata": {},
   "outputs": [],
   "source": [
    "dict_ori = torch.load('dict_hotel.pth')\n",
    "dict_new = {'tra':{},'val':{}}\n",
    "root = '/SEAS/home/xuanhong/'\n",
    "for p in ['tra','val']:\n",
    "    for c, path_list in dict_ori[p].items():\n",
    "        if p =='val':\n",
    "            path_list_new = [root + 'Hotels-50K/' + '/'.join(p.split('/')[-7:]) for p in path_list]\n",
    "        else:\n",
    "            path_list_new = [root + '/'.join(p.split('/')[-7:]) for p in path_list]\n",
    "        dict_new[p][c]=path_list_new"
   ]
  },
  {
   "cell_type": "code",
   "execution_count": 33,
   "metadata": {},
   "outputs": [],
   "source": [
    "torch.save(dict_new,'data_dict_emb.pth')"
   ]
  },
  {
   "cell_type": "code",
   "execution_count": 34,
   "metadata": {},
   "outputs": [
    {
     "data": {
      "text/plain": [
       "0"
      ]
     },
     "execution_count": 34,
     "metadata": {},
     "output_type": "execute_result"
    }
   ],
   "source": [
    "i=0\n",
    "for c, path_list in dict_new['val'].items():\n",
    "    for img in path_list:\n",
    "        if not os.path.exists(img):\n",
    "            print(c,img)\n",
    "            i+=1\n",
    "i"
   ]
  }
 ],
 "metadata": {
  "kernelspec": {
   "display_name": "Python 3",
   "language": "python",
   "name": "python3"
  },
  "language_info": {
   "codemirror_mode": {
    "name": "ipython",
    "version": 3
   },
   "file_extension": ".py",
   "mimetype": "text/x-python",
   "name": "python",
   "nbconvert_exporter": "python",
   "pygments_lexer": "ipython3",
   "version": "3.7.3"
  }
 },
 "nbformat": 4,
 "nbformat_minor": 2
}
